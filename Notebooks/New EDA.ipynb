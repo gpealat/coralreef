{
 "cells": [
  {
   "cell_type": "code",
   "execution_count": 143,
   "id": "58eb00fd-4cb6-4612-b396-f5188bba8ec7",
   "metadata": {
    "tags": []
   },
   "outputs": [],
   "source": [
    "import pandas as pd\n",
    "import numpy as np\n",
    "import matplotlib.pyplot as plt\n",
    "import seaborn as sns\n",
    "\n",
    "from sklearn.preprocessing import LabelEncoder\n",
    "\n",
    "from sklearn.ensemble import RandomForestRegressor\n",
    "from sklearn.model_selection import train_test_split\n",
    "from sklearn.metrics import mean_squared_error\n",
    "from sklearn.linear_model import LogisticRegression\n",
    "\n",
    "from sklearn import linear_model\n",
    "from sklearn.metrics import mean_squared_error\n",
    "from sklearn.metrics import mean_absolute_error\n",
    "from sklearn.metrics import r2_score\n",
    "\n",
    "from sklearn.metrics import classification_report"
   ]
  },
  {
   "cell_type": "code",
   "execution_count": 144,
   "id": "9d85a8e6-a532-4e3d-a330-e287970f0087",
   "metadata": {
    "tags": []
   },
   "outputs": [],
   "source": [
    "data_species = pd.read_csv('../Data/species.csv', index_col=0)\n",
    "\n",
    "data = data_species.copy(deep=True)"
   ]
  },
  {
   "cell_type": "markdown",
   "id": "a976bf24-41d8-4f68-ba2b-fe18b6008112",
   "metadata": {},
   "source": [
    "#### Remove Duplicates"
   ]
  },
  {
   "cell_type": "code",
   "execution_count": 146,
   "id": "71553fad-ee4a-4f16-8f67-1b716169a088",
   "metadata": {
    "tags": []
   },
   "outputs": [],
   "source": [
    "duplicates = [\"REGION\", \"YEAR\", \"MAX_HARD_RELIEF\", \"PCT_CORAL\"]\n",
    "\n",
    "data = data.drop(duplicates, axis = 1)"
   ]
  },
  {
   "cell_type": "markdown",
   "id": "5461d344-c837-49ef-948a-d2c949d196e0",
   "metadata": {},
   "source": [
    "#### Remove Features not related"
   ]
  },
  {
   "cell_type": "code",
   "execution_count": 148,
   "id": "9043e770-9f12-4b0a-8caf-5eff70eb4a4b",
   "metadata": {
    "tags": []
   },
   "outputs": [],
   "source": [
    "not_related = [\"no.divers\", \"model\", \"Random\", \"site\"]\n",
    "\n",
    "data = data.drop(not_related, axis = 1)"
   ]
  },
  {
   "cell_type": "markdown",
   "id": "b3d6706d-46c9-4080-9c4c-9dd70ae3cca2",
   "metadata": {},
   "source": [
    "#### Remove Features not relevant for the model"
   ]
  },
  {
   "cell_type": "code",
   "execution_count": 150,
   "id": "6bd1825d-dcea-47f2-853e-fe89960d5753",
   "metadata": {
    "tags": []
   },
   "outputs": [
    {
     "name": "stdout",
     "output_type": "stream",
     "text": [
      "Habitat_type_classLV0\n",
      "Coral Reef and Hardbottom    3988\n",
      "Unconsolidated Sediment         7\n",
      "Seagrass                        4\n",
      "Name: count, dtype: int64\n"
     ]
    }
   ],
   "source": [
    "#Most values are the same for Habitat_type_classLV0\n",
    "print(data.Habitat_type_classLV0.value_counts())\n",
    "\n",
    "not_for_model = [\"Latitude\", \"Longitude\", \"Habitat_type_classLV0\"]\n",
    "\n",
    "data = data.drop(not_for_model, axis = 1)"
   ]
  },
  {
   "cell_type": "markdown",
   "id": "0a1a892c-81ad-4371-9f2a-3c88b320192c",
   "metadata": {},
   "source": [
    "## EDA"
   ]
  },
  {
   "cell_type": "markdown",
   "id": "8b1db503-93e8-4663-8e11-d5bc5879c5fd",
   "metadata": {},
   "source": [
    "### Zones and Regions analysis"
   ]
  },
  {
   "cell_type": "code",
   "execution_count": 153,
   "id": "dcbf3cb4-1791-4582-b26d-4d47809bc7ea",
   "metadata": {
    "tags": []
   },
   "outputs": [
    {
     "name": "stdout",
     "output_type": "stream",
     "text": [
      "     Keys_Divisions  Region\n",
      "1350            NaN  SEFCRI\n",
      "1351            NaN  SEFCRI\n",
      "1352            NaN  SEFCRI\n",
      "1353            NaN  SEFCRI\n",
      "1354            NaN  SEFCRI\n",
      "...             ...     ...\n",
      "3992            NaN  SEFCRI\n",
      "3993            NaN  SEFCRI\n",
      "3994            NaN  SEFCRI\n",
      "3997            NaN  SEFCRI\n",
      "3998            NaN  SEFCRI\n",
      "\n",
      "[1429 rows x 2 columns]\n",
      "[nan]\n",
      "['SEFCRI']\n"
     ]
    }
   ],
   "source": [
    "#Keys_divisions, Region\n",
    "\n",
    "print(data.loc[data.Keys_Divisions.isna(),[\"Keys_Divisions\", \"Region\"]])\n",
    "print(data.loc[data.Keys_Divisions.isna(),[\"Keys_Divisions\", \"Region\"]].Keys_Divisions.unique())\n",
    "print(data.loc[data.Keys_Divisions.isna(),[\"Keys_Divisions\", \"Region\"]].Region.unique())\n",
    "\n",
    "\n",
    "#CONCLUSION: Kyes_Divisons and Region have the same information. The missing values of Keys_Divisions correspond to SEFCRI."
   ]
  },
  {
   "cell_type": "code",
   "execution_count": 154,
   "id": "51903d63-7996-458c-8a57-0591c7b000a7",
   "metadata": {
    "tags": []
   },
   "outputs": [],
   "source": [
    "# Fill missing values for categorical columns with a placeholder\n",
    "data.fillna({'Keys_Divisions': 'SEFCRI'}, inplace=True)"
   ]
  },
  {
   "cell_type": "code",
   "execution_count": 155,
   "id": "8d64206f-4746-48d6-b794-8564ea1cc583",
   "metadata": {
    "tags": []
   },
   "outputs": [],
   "source": [
    "#BNP, FKNMS, CoralECA, DryTortuga contain the same information combined in Keys_Divisions, so they can be dropped.\n",
    "\n",
    "drop_individual_region = [\"BNP\", \"FKNMS\", \"CoralECA\", \"DryTortugas\"]\n",
    "\n",
    "data = data.drop(drop_individual_region, axis = 1)"
   ]
  },
  {
   "cell_type": "markdown",
   "id": "499891a1-2c37-4a6b-87aa-acf0e7b6d4dd",
   "metadata": {},
   "source": [
    "### Feature Interrelation Analysis"
   ]
  },
  {
   "cell_type": "markdown",
   "id": "778942b8-049c-4cb8-9a69-599d8a69462d",
   "metadata": {},
   "source": [
    "#### impact"
   ]
  },
  {
   "cell_type": "code",
   "execution_count": 158,
   "id": "8322a9eb-d3dd-421a-8728-12a717cc72ee",
   "metadata": {
    "tags": []
   },
   "outputs": [
    {
     "name": "stdout",
     "output_type": "stream",
     "text": [
      "                               impact  connectivity\n",
      "impact                       1.000000      0.670892\n",
      "SST                          0.848783      0.550070\n",
      "Recreational_fishermen_50km  0.832204      0.729267\n",
      "Commercial_pounds_landed    -0.825649     -0.640719\n",
      "Marina_slips_25km            0.817805      0.681051\n",
      "Population_50km              0.817650      0.745041\n",
      "Population_20km              0.770920      0.687211\n",
      "Tourist_fishing              0.741886      0.697488\n",
      "Marina_slips_10km            0.690361      0.766698\n",
      "connectivity                 0.670892      1.000000\n",
      "NPP                         -0.663904     -0.556075\n",
      "Pop_per_area_reef_20km       0.619547      0.650263\n",
      "Deepwater                   -0.564464     -0.342929\n",
      "SG_permits_50km              0.486797      0.175019\n",
      "FSA                         -0.462780     -0.223802\n",
      "Total_gravity_intercept      0.389253      0.409008\n",
      "Total_gravity                0.389253      0.409008\n",
      "Coral_cover                 -0.283849     -0.222864\n",
      "Artificial_reefs_1km         0.281640      0.358763\n",
      "Reef_complexity             -0.212372     -0.192935\n",
      "Year                         0.197741      0.234666\n",
      "SG_charter_permits_25km      0.184697     -0.086352\n",
      "Depth_Sbrocco               -0.149393     -0.090764\n",
      "Diversity_index              0.142606      0.089227\n",
      "Coral_area_UFRTM_200km      -0.140822     -0.315747\n",
      "Nursery_seagrass            -0.127152     -0.226033\n",
      "Nursery_mangroves            0.125713     -0.032880\n",
      "Rec_reliance                -0.077572     -0.016824\n",
      "Depth                        0.071037      0.078731\n",
      "Coral_area_UFRTM_20km       -0.040679     -0.054697\n",
      "Comm_reliance               -0.039443     -0.161791\n",
      "Wave_exposure               -0.038462      0.147078\n",
      "Rec_engagement              -0.034621     -0.068278\n",
      "Comm_engagement              0.010161     -0.089566\n"
     ]
    }
   ],
   "source": [
    "print(data.corr(numeric_only=True).loc[:,[\"impact\", \"connectivity\"]].sort_values(by = \"impact\", ascending = False, key = abs))\n",
    "\n",
    "#CONLCUSION: The following features are highly related and maybe explainable only with the \"impact\" feature\n",
    "\n",
    "# SST                            0.848783\n",
    "# Recreational_fishermen_50km    0.832204\n",
    "# Commercial_pounds_landed      -0.825649\n",
    "# Marina_slips_25km              0.817805\n",
    "# Population_50km                0.817650\n",
    "# Population_20km                0.770920\n",
    "# Tourist_fishing                0.741886\n",
    "# Marina_slips_10km              0.690361\n",
    "# connectivity                   0.670892\n",
    "\n",
    "# ** Diversity_index **          0.142606\n",
    "\n",
    "\n",
    "related_to_impact = [\"SST\", \"Marina_slips_10km\", \"Marina_slips_25km\", \n",
    "                     \"Population_20km\", \"Population_50km\", \"Recreational_fishermen_50km\",\n",
    "                    \"Tourist_fishing\", \"connectivity\"]\n",
    "\n",
    "#OBS: connectivity is also considerably related with the anthropogenic stressors' features\n",
    "\n",
    "\n",
    "data = data.drop(related_to_impact, axis = 1)"
   ]
  },
  {
   "cell_type": "markdown",
   "id": "0f7ef6ba-b77d-4f74-b7e0-5cbbf2d3f3f6",
   "metadata": {},
   "source": [
    "#### Depth, Depth_Sbrocco, Deepwater"
   ]
  },
  {
   "cell_type": "code",
   "execution_count": 160,
   "id": "e4778c5f-652b-460f-ba91-5ebc33d8d8d3",
   "metadata": {
    "tags": []
   },
   "outputs": [
    {
     "name": "stdout",
     "output_type": "stream",
     "text": [
      "                    Depth  Depth_Sbrocco  Deepwater\n",
      "Diversity_index -0.207735       0.121668   -0.03791\n"
     ]
    }
   ],
   "source": [
    "feat = [\"Depth\", \"Depth_Sbrocco\", \"Deepwater\"]\n",
    "print(data.corr(numeric_only = True).loc[[\"Diversity_index\"], feat])\n",
    "\n",
    "#Depth and Depth_Sbrocco have a non-negligible correlation with Diversity_index.\n",
    "\n",
    "data = data.drop(\"Deepwater\", axis = 1)"
   ]
  },
  {
   "cell_type": "markdown",
   "id": "fb43c09d-a38f-4440-8938-1e8688ce14d7",
   "metadata": {},
   "source": [
    "#### Comm_reliance, Comm_engagement, Rec_reliance and Rec_engagement"
   ]
  },
  {
   "cell_type": "code",
   "execution_count": 162,
   "id": "0877bbae-8d28-4738-b06b-860241c352f3",
   "metadata": {
    "tags": []
   },
   "outputs": [
    {
     "name": "stdout",
     "output_type": "stream",
     "text": [
      "Comm_reliance\n",
      "-0.129    2344\n",
      "-0.128     263\n",
      " 0.347     201\n",
      "Name: count, dtype: int64\n",
      "Comm_engagement\n",
      "-0.158    2344\n",
      "-0.105     227\n",
      " 2.960     201\n",
      "Name: count, dtype: int64\n",
      "Rec_reliance\n",
      "-0.185    2647\n",
      " 0.044     277\n",
      " 0.995     201\n",
      "Name: count, dtype: int64\n",
      "Rec_engagement\n",
      "-0.260    2647\n",
      "-0.176     277\n",
      " 3.101     201\n",
      "Name: count, dtype: int64\n"
     ]
    }
   ],
   "source": [
    "comm_rec = [\"Comm_reliance\", \"Comm_engagement\", \"Rec_reliance\", \"Rec_engagement\"]\n",
    "\n",
    "data.corr(numeric_only = True).loc[:,comm_rec]\n",
    "\n",
    "print(data[\"Comm_reliance\"].value_counts().head(3))\n",
    "print(data[\"Comm_engagement\"].value_counts().head(3))\n",
    "print(data[\"Rec_reliance\"].value_counts().head(3))\n",
    "print(data[\"Rec_engagement\"].value_counts().head(3))\n",
    "\n",
    "\n",
    "#CONCLUSION: Most of the values are the same. So they are a good candidate to not be part of the final model. (?)\n",
    "\n",
    "data = data.drop(comm_rec, axis = 1)"
   ]
  },
  {
   "cell_type": "markdown",
   "id": "a6cdda57-9871-4ca4-a9b7-a39471b6d4f9",
   "metadata": {
    "tags": []
   },
   "source": [
    "##### Features unsure"
   ]
  },
  {
   "cell_type": "code",
   "execution_count": 164,
   "id": "3d8898d6-f6c4-42ce-8a48-56d72dc18f50",
   "metadata": {
    "tags": []
   },
   "outputs": [
    {
     "data": {
      "text/plain": [
       "'Month'"
      ]
     },
     "execution_count": 164,
     "metadata": {},
     "output_type": "execute_result"
    }
   ],
   "source": [
    "\"SG_charter_permits_25km\", \n",
    "\"SG_permits_50km\",\n",
    "\"Coral_area_UFRTM_20km\", \n",
    "\"FSA\", \n",
    "\"HABITAT_CD\",\n",
    "\"NPP\",\n",
    "\"Wave_exposure\", \n",
    "\"Artificial_reefs_1km\", \n",
    "\"Year\",\n",
    "\"Month\""
   ]
  },
  {
   "cell_type": "markdown",
   "id": "08f09fe2-1f34-4ad6-83c7-48c80ab24768",
   "metadata": {
    "tags": []
   },
   "source": [
    "#### EDA above not yet finished (!)"
   ]
  },
  {
   "cell_type": "markdown",
   "id": "bb533941-712f-4462-9c80-6671622ea0c8",
   "metadata": {},
   "source": [
    "#### Fill Missing Values"
   ]
  },
  {
   "cell_type": "code",
   "execution_count": 167,
   "id": "2fc707ac-c6da-40cc-b6ca-5f6c22092660",
   "metadata": {},
   "outputs": [],
   "source": [
    "#!!!!!!!!!!!!!!!!!!!!!!!!!!!!!!!!!!!!!!!!! \n",
    "data = data.dropna(axis = 0)#!!!!!!!!!!!!!!!!!!!!!!!!!!!!!!!!!!!!!!!!! \n",
    "#!!!!!!!!!!!!!!!!!!!!!!!!!!!!!!!!!!!!!!!!! "
   ]
  },
  {
   "cell_type": "code",
   "execution_count": 168,
   "id": "6fd25f17-0387-4a03-b604-97df1d407231",
   "metadata": {},
   "outputs": [],
   "source": [
    "#(This will probably give bad results) - For the Coral_cover maybe will be better \n",
    "#to remove the rows all together, since we cannot infer by the location\n",
    "\n",
    "\n",
    "\n",
    "# Handle missing values: fill missing numeric values with the median\n",
    "numeric_cols = data.select_dtypes(include=['float64', 'int64']).columns\n",
    "for col in numeric_cols:\n",
    "    data[col] = data[col].fillna(data[col].median())"
   ]
  },
  {
   "cell_type": "markdown",
   "id": "33364b37-d50c-4b54-9cf1-4decac181bd6",
   "metadata": {},
   "source": [
    "#### Convert Categorical Data into Numeric"
   ]
  },
  {
   "cell_type": "code",
   "execution_count": 170,
   "id": "618ddbb9-48ba-44d9-a5d6-b2161335067a",
   "metadata": {
    "tags": []
   },
   "outputs": [],
   "source": [
    "# Convert categorical columns to numeric using label encoding\n",
    "non_numeric_cols = data.select_dtypes(include=['object']).columns\n",
    "label_encoders = {}\n",
    "for col in non_numeric_cols:\n",
    "    le = LabelEncoder()\n",
    "    data[col] = le.fit_transform(data[col])\n",
    "    label_encoders[col] = le"
   ]
  },
  {
   "cell_type": "code",
   "execution_count": 171,
   "id": "4d541b4b-0b20-440c-a77d-ab9f790ac8fe",
   "metadata": {
    "tags": []
   },
   "outputs": [
    {
     "name": "stdout",
     "output_type": "stream",
     "text": [
      "\n",
      " \n",
      " === Features Selected === \n",
      "\n",
      "\n",
      "Index(['Year', 'Month', 'Depth', 'Region', 'Coral_cover', 'Reef_complexity',\n",
      "       'NPP', 'Wave_exposure', 'Habitat_type_classLV2',\n",
      "       'Coral_area_UFRTM_20km', 'Coral_area_UFRTM_200km', 'Depth_Sbrocco',\n",
      "       'FSA', 'Marine_reserve', 'Artificial_reefs_1km', 'SG_permits_50km',\n",
      "       'SG_charter_permits_25km', 'Total_gravity_intercept', 'Total_gravity',\n",
      "       'Keys_Divisions', 'Nursery_seagrass', 'Nursery_mangroves',\n",
      "       'Commercial_pounds_landed', 'Pop_per_area_reef_20km', 'impact',\n",
      "       'HABITAT_CD', 'Diversity_index'],\n",
      "      dtype='object')\n"
     ]
    }
   ],
   "source": [
    "print(\"\\n \\n === Features Selected === \\n\\n\")\n",
    "print(data.columns)"
   ]
  },
  {
   "cell_type": "markdown",
   "id": "b6b57cfd-b358-4663-ab71-ad0e9a428d26",
   "metadata": {},
   "source": [
    "### Model"
   ]
  },
  {
   "cell_type": "markdown",
   "id": "f00dba54-af88-4e8a-9dd5-a6d977a12d4e",
   "metadata": {},
   "source": [
    "#### Linear"
   ]
  },
  {
   "cell_type": "markdown",
   "id": "da1847b2-abcb-44d8-8941-1e61fddd864f",
   "metadata": {},
   "source": [
    "###### Linear Regression"
   ]
  },
  {
   "cell_type": "code",
   "execution_count": 175,
   "id": "61214e98-5f8d-4f88-a9ba-1c1ccdd29dc7",
   "metadata": {
    "tags": []
   },
   "outputs": [
    {
     "name": "stdout",
     "output_type": "stream",
     "text": [
      "MAE:  0.0772990866975016\n",
      "MSE:  0.013408166039528812\n",
      "R2:  0.17768274894369718\n"
     ]
    }
   ],
   "source": [
    "# Prepare the data for the model\n",
    "# Separate features and target\n",
    "X = data.drop(columns=['Diversity_index'])\n",
    "y = data['Diversity_index']\n",
    "\n",
    "# Split the data\n",
    "X_train, X_test, y_train, y_test = train_test_split(X, y, test_size=0.25, random_state=42)\n",
    "\n",
    "\n",
    "reg_model = linear_model.LinearRegression()\n",
    "reg_model.fit(X_train, y_train)\n",
    "\n",
    "y_predict = reg_model.predict(X_test)\n",
    "\n",
    "mae = mean_absolute_error(y_test, y_predict) #The lower the better\n",
    "mse = mean_squared_error(y_test, y_predict) #The lower the better\n",
    "r2 = r2_score(y_test, y_predict) #Closer to 1 better\n",
    "\n",
    "print(\"MAE: \", mae) #Average error\n",
    "print(\"MSE: \", mse) #Average error\n",
    "print(\"R2: \", r2)  #How much the model explains the variance."
   ]
  },
  {
   "cell_type": "markdown",
   "id": "c283d5e2-4494-4763-9835-cdc2ac71cb85",
   "metadata": {},
   "source": [
    "#### Non-Linear"
   ]
  },
  {
   "cell_type": "markdown",
   "id": "62773733-9ddb-4db1-a3fd-45c9cc01bc4c",
   "metadata": {},
   "source": [
    "###### Random Forest Regressor"
   ]
  },
  {
   "cell_type": "code",
   "execution_count": null,
   "id": "81d447fa-19d9-42c4-b026-b830e3e27c9f",
   "metadata": {
    "tags": []
   },
   "outputs": [],
   "source": [
    "from sklearn.metrics import r2_score\n",
    "\n",
    "# Prepare the data for the model\n",
    "# Separate features and target\n",
    "X = data.drop(columns=['Diversity_index'])\n",
    "y = data['Diversity_index']\n",
    "\n",
    "# Split the data\n",
    "X_train, X_test, y_train, y_test = train_test_split(X, y, test_size=0.25, random_state=42)\n",
    "\n",
    "# Train a Random Forest model\n",
    "rf = RandomForestRegressor(random_state=42)\n",
    "rf.fit(X_train, y_train)\n",
    "\n",
    "# Evaluate the model\n",
    "y_pred = rf.predict(X_test)\n",
    "rmse = mean_squared_error(y_test, y_pred, squared=False)\n",
    "print(f'RMSE: {rmse}')\n",
    "r2 = r2_score(y_test, y_pred) #Closer to 1 better\n",
    "print(\"R2: \", r2)  #How much the model explains the variance."
   ]
  }
 ],
 "metadata": {
  "kernelspec": {
   "display_name": "Python 3 (ipykernel)",
   "language": "python",
   "name": "python3"
  },
  "language_info": {
   "codemirror_mode": {
    "name": "ipython",
    "version": 3
   },
   "file_extension": ".py",
   "mimetype": "text/x-python",
   "name": "python",
   "nbconvert_exporter": "python",
   "pygments_lexer": "ipython3",
   "version": "3.11.7"
  }
 },
 "nbformat": 4,
 "nbformat_minor": 5
}
