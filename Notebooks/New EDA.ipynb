{
 "cells": [
  {
   "cell_type": "code",
   "execution_count": 323,
   "id": "58eb00fd-4cb6-4612-b396-f5188bba8ec7",
   "metadata": {
    "tags": []
   },
   "outputs": [],
   "source": [
    "import pandas as pd\n",
    "import numpy as np\n",
    "import matplotlib.pyplot as plt\n",
    "import seaborn as sns\n",
    "\n",
    "from sklearn.preprocessing import LabelEncoder\n",
    "\n",
    "from sklearn.ensemble import RandomForestRegressor\n",
    "from sklearn.model_selection import train_test_split\n",
    "from sklearn.metrics import mean_squared_error\n",
    "from sklearn.linear_model import LogisticRegression\n",
    "\n",
    "from sklearn import linear_model\n",
    "from sklearn.metrics import mean_squared_error\n",
    "from sklearn.metrics import mean_absolute_error\n",
    "from sklearn.metrics import r2_score\n",
    "\n",
    "from sklearn.metrics import classification_report"
   ]
  },
  {
   "cell_type": "code",
   "execution_count": 324,
   "id": "9d85a8e6-a532-4e3d-a330-e287970f0087",
   "metadata": {
    "tags": []
   },
   "outputs": [],
   "source": [
    "data_species = pd.read_csv('../Data/species.csv', index_col=0)\n",
    "\n",
    "data = data_species.copy(deep=True)"
   ]
  },
  {
   "cell_type": "markdown",
   "id": "a976bf24-41d8-4f68-ba2b-fe18b6008112",
   "metadata": {},
   "source": [
    "#### Remove Duplicates"
   ]
  },
  {
   "cell_type": "code",
   "execution_count": 326,
   "id": "71553fad-ee4a-4f16-8f67-1b716169a088",
   "metadata": {
    "tags": []
   },
   "outputs": [],
   "source": [
    "duplicates = [\"REGION\", \"YEAR\", \"MAX_HARD_RELIEF\", \"PCT_CORAL\"]\n",
    "\n",
    "data = data.drop(duplicates, axis = 1)"
   ]
  },
  {
   "cell_type": "markdown",
   "id": "5461d344-c837-49ef-948a-d2c949d196e0",
   "metadata": {},
   "source": [
    "#### Remove Features not related"
   ]
  },
  {
   "cell_type": "code",
   "execution_count": 328,
   "id": "9043e770-9f12-4b0a-8caf-5eff70eb4a4b",
   "metadata": {
    "tags": []
   },
   "outputs": [],
   "source": [
    "not_related = [\"no.divers\", \"model\", \"Random\", \"site\"]\n",
    "\n",
    "data = data.drop(not_related, axis = 1)"
   ]
  },
  {
   "cell_type": "markdown",
   "id": "b3d6706d-46c9-4080-9c4c-9dd70ae3cca2",
   "metadata": {},
   "source": [
    "#### Remove Features not relevant for the model"
   ]
  },
  {
   "cell_type": "code",
   "execution_count": 330,
   "id": "6bd1825d-dcea-47f2-853e-fe89960d5753",
   "metadata": {
    "tags": []
   },
   "outputs": [
    {
     "name": "stdout",
     "output_type": "stream",
     "text": [
      "Habitat_type_classLV0\n",
      "Coral Reef and Hardbottom    3988\n",
      "Unconsolidated Sediment         7\n",
      "Seagrass                        4\n",
      "Name: count, dtype: int64\n"
     ]
    }
   ],
   "source": [
    "#Most values are the same for Habitat_type_classLV0\n",
    "print(data.Habitat_type_classLV0.value_counts())\n",
    "\n",
    "not_for_model = [\"Latitude\", \"Longitude\", \"Habitat_type_classLV0\"]\n",
    "\n",
    "data = data.drop(not_for_model, axis = 1)"
   ]
  },
  {
   "cell_type": "markdown",
   "id": "0a1a892c-81ad-4371-9f2a-3c88b320192c",
   "metadata": {},
   "source": [
    "## EDA"
   ]
  },
  {
   "cell_type": "markdown",
   "id": "8b1db503-93e8-4663-8e11-d5bc5879c5fd",
   "metadata": {},
   "source": [
    "### Zones and Regions analysis"
   ]
  },
  {
   "cell_type": "code",
   "execution_count": 333,
   "id": "dcbf3cb4-1791-4582-b26d-4d47809bc7ea",
   "metadata": {
    "tags": []
   },
   "outputs": [
    {
     "name": "stdout",
     "output_type": "stream",
     "text": [
      "     Keys_Divisions  Region\n",
      "1350            NaN  SEFCRI\n",
      "1351            NaN  SEFCRI\n",
      "1352            NaN  SEFCRI\n",
      "1353            NaN  SEFCRI\n",
      "1354            NaN  SEFCRI\n",
      "...             ...     ...\n",
      "3992            NaN  SEFCRI\n",
      "3993            NaN  SEFCRI\n",
      "3994            NaN  SEFCRI\n",
      "3997            NaN  SEFCRI\n",
      "3998            NaN  SEFCRI\n",
      "\n",
      "[1429 rows x 2 columns]\n",
      "[nan]\n",
      "['SEFCRI']\n"
     ]
    }
   ],
   "source": [
    "#Keys_divisions, Region\n",
    "\n",
    "print(data.loc[data.Keys_Divisions.isna(),[\"Keys_Divisions\", \"Region\"]])\n",
    "print(data.loc[data.Keys_Divisions.isna(),[\"Keys_Divisions\", \"Region\"]].Keys_Divisions.unique())\n",
    "print(data.loc[data.Keys_Divisions.isna(),[\"Keys_Divisions\", \"Region\"]].Region.unique())\n",
    "\n",
    "\n",
    "#CONCLUSION: Kyes_Divisons and Region have the same information. The missing values of Keys_Divisions correspond to SEFCRI."
   ]
  },
  {
   "cell_type": "code",
   "execution_count": 334,
   "id": "51903d63-7996-458c-8a57-0591c7b000a7",
   "metadata": {
    "tags": []
   },
   "outputs": [],
   "source": [
    "# Fill missing values for categorical columns with a placeholder\n",
    "data.fillna({'Keys_Divisions': 'SEFCRI'}, inplace=True)"
   ]
  },
  {
   "cell_type": "code",
   "execution_count": 335,
   "id": "8d64206f-4746-48d6-b794-8564ea1cc583",
   "metadata": {
    "tags": []
   },
   "outputs": [],
   "source": [
    "#BNP, FKNMS, CoralECA, DryTortuga contain the same information combined in Keys_Divisions, so they can be dropped.\n",
    "\n",
    "drop_individual_region = [\"BNP\", \"FKNMS\", \"CoralECA\", \"DryTortugas\"]\n",
    "\n",
    "data = data.drop(drop_individual_region, axis = 1)"
   ]
  },
  {
   "cell_type": "markdown",
   "id": "499891a1-2c37-4a6b-87aa-acf0e7b6d4dd",
   "metadata": {},
   "source": [
    "### Feature Interrelation Analysis"
   ]
  },
  {
   "cell_type": "markdown",
   "id": "778942b8-049c-4cb8-9a69-599d8a69462d",
   "metadata": {},
   "source": [
    "#### impact"
   ]
  },
  {
   "cell_type": "code",
   "execution_count": 338,
   "id": "8322a9eb-d3dd-421a-8728-12a717cc72ee",
   "metadata": {
    "tags": []
   },
   "outputs": [
    {
     "name": "stdout",
     "output_type": "stream",
     "text": [
      "                               impact  connectivity\n",
      "impact                       1.000000      0.670892\n",
      "SST                          0.848783      0.550070\n",
      "Recreational_fishermen_50km  0.832204      0.729267\n",
      "Commercial_pounds_landed    -0.825649     -0.640719\n",
      "Marina_slips_25km            0.817805      0.681051\n",
      "Population_50km              0.817650      0.745041\n",
      "Population_20km              0.770920      0.687211\n",
      "Tourist_fishing              0.741886      0.697488\n",
      "Marina_slips_10km            0.690361      0.766698\n",
      "connectivity                 0.670892      1.000000\n",
      "NPP                         -0.663904     -0.556075\n",
      "Pop_per_area_reef_20km       0.619547      0.650263\n",
      "Deepwater                   -0.564464     -0.342929\n",
      "SG_permits_50km              0.486797      0.175019\n",
      "FSA                         -0.462780     -0.223802\n",
      "Total_gravity_intercept      0.389253      0.409008\n",
      "Total_gravity                0.389253      0.409008\n",
      "Coral_cover                 -0.283849     -0.222864\n",
      "Artificial_reefs_1km         0.281640      0.358763\n",
      "Reef_complexity             -0.212372     -0.192935\n",
      "Year                         0.197741      0.234666\n",
      "SG_charter_permits_25km      0.184697     -0.086352\n",
      "Depth_Sbrocco               -0.149393     -0.090764\n",
      "Diversity_index              0.142606      0.089227\n",
      "Coral_area_UFRTM_200km      -0.140822     -0.315747\n",
      "Nursery_seagrass            -0.127152     -0.226033\n",
      "Nursery_mangroves            0.125713     -0.032880\n",
      "Rec_reliance                -0.077572     -0.016824\n",
      "Depth                        0.071037      0.078731\n",
      "Coral_area_UFRTM_20km       -0.040679     -0.054697\n",
      "Comm_reliance               -0.039443     -0.161791\n",
      "Wave_exposure               -0.038462      0.147078\n",
      "Rec_engagement              -0.034621     -0.068278\n",
      "Comm_engagement              0.010161     -0.089566\n"
     ]
    }
   ],
   "source": [
    "print(data.corr(numeric_only=True).loc[:,[\"impact\", \"connectivity\"]].sort_values(by = \"impact\", ascending = False, key = abs))\n",
    "\n",
    "#CONLCUSION: The following features are highly related and maybe explainable only with the \"impact\" feature\n",
    "\n",
    "# SST                            0.848783\n",
    "# Recreational_fishermen_50km    0.832204\n",
    "# Commercial_pounds_landed      -0.825649\n",
    "# Marina_slips_25km              0.817805\n",
    "# Population_50km                0.817650\n",
    "# Population_20km                0.770920\n",
    "# Tourist_fishing                0.741886\n",
    "# Marina_slips_10km              0.690361\n",
    "# connectivity                   0.670892\n",
    "\n",
    "# ** Diversity_index **          0.142606\n",
    "\n",
    "\n",
    "related_to_impact = [\"SST\", \"Marina_slips_10km\", \"Marina_slips_25km\", \n",
    "                     \"Population_20km\", \"Population_50km\", \"Recreational_fishermen_50km\",\n",
    "                    \"Tourist_fishing\", \"connectivity\"]\n",
    "\n",
    "#OBS: connectivity is also considerably related with the anthropogenic stressors' features\n",
    "\n",
    "\n",
    "data = data.drop(related_to_impact, axis = 1)"
   ]
  },
  {
   "cell_type": "markdown",
   "id": "0f7ef6ba-b77d-4f74-b7e0-5cbbf2d3f3f6",
   "metadata": {},
   "source": [
    "#### Depth, Depth_Sbrocco, Deepwater"
   ]
  },
  {
   "cell_type": "code",
   "execution_count": 340,
   "id": "e4778c5f-652b-460f-ba91-5ebc33d8d8d3",
   "metadata": {
    "tags": []
   },
   "outputs": [
    {
     "name": "stdout",
     "output_type": "stream",
     "text": [
      "                    Depth  Depth_Sbrocco  Deepwater\n",
      "Diversity_index -0.207735       0.121668   -0.03791\n"
     ]
    }
   ],
   "source": [
    "feat = [\"Depth\", \"Depth_Sbrocco\", \"Deepwater\"]\n",
    "print(data.corr(numeric_only = True).loc[[\"Diversity_index\"], feat])\n",
    "\n",
    "#Depth and Depth_Sbrocco have a non-negligible correlation with Diversity_index.\n",
    "\n",
    "data = data.drop(\"Deepwater\", axis = 1)"
   ]
  },
  {
   "cell_type": "markdown",
   "id": "fb43c09d-a38f-4440-8938-1e8688ce14d7",
   "metadata": {},
   "source": [
    "#### Comm_reliance, Comm_engagement, Rec_reliance and Rec_engagement"
   ]
  },
  {
   "cell_type": "code",
   "execution_count": 405,
   "id": "0877bbae-8d28-4738-b06b-860241c352f3",
   "metadata": {
    "tags": []
   },
   "outputs": [
    {
     "name": "stdout",
     "output_type": "stream",
     "text": [
      "Comm_reliance\n",
      "-0.129    2433\n",
      "-0.128     263\n",
      " 0.347     201\n",
      "Name: count, dtype: int64\n",
      "Comm_engagement\n",
      "-0.158    2433\n",
      "-0.105     227\n",
      " 2.960     201\n",
      "Name: count, dtype: int64\n",
      "Rec_reliance\n",
      "-0.185    2736\n",
      " 0.044     277\n",
      " 0.995     201\n",
      "Name: count, dtype: int64\n",
      "Rec_engagement\n",
      "-0.260    2736\n",
      "-0.176     277\n",
      " 3.101     201\n",
      "Name: count, dtype: int64\n"
     ]
    }
   ],
   "source": [
    "comm_rec = [\"Comm_reliance\", \"Comm_engagement\", \"Rec_reliance\", \"Rec_engagement\"]\n",
    "\n",
    "data.corr(numeric_only = True).loc[:,comm_rec]\n",
    "\n",
    "print(data[\"Comm_reliance\"].value_counts().head(3))\n",
    "print(data[\"Comm_engagement\"].value_counts().head(3))\n",
    "print(data[\"Rec_reliance\"].value_counts().head(3))\n",
    "print(data[\"Rec_engagement\"].value_counts().head(3))\n",
    "\n",
    "\n",
    "#CONCLUSION: Most of the values are the same. So they are a good candidate to not be part of the final model. (?)\n",
    "\n",
    "data = data.drop(comm_rec, axis = 1)"
   ]
  },
  {
   "cell_type": "markdown",
   "id": "a6cdda57-9871-4ca4-a9b7-a39471b6d4f9",
   "metadata": {
    "tags": []
   },
   "source": [
    "##### Features unsure"
   ]
  },
  {
   "cell_type": "code",
   "execution_count": 344,
   "id": "3d8898d6-f6c4-42ce-8a48-56d72dc18f50",
   "metadata": {
    "tags": []
   },
   "outputs": [
    {
     "data": {
      "text/plain": [
       "'Month'"
      ]
     },
     "execution_count": 344,
     "metadata": {},
     "output_type": "execute_result"
    }
   ],
   "source": [
    "\"SG_charter_permits_25km\", \n",
    "\"SG_permits_50km\",\n",
    "\"Coral_area_UFRTM_20km\", \n",
    "\"FSA\", \n",
    "\"HABITAT_CD\",\n",
    "\"NPP\",\n",
    "\"Wave_exposure\", \n",
    "\"Artificial_reefs_1km\", \n",
    "\"Year\",\n",
    "\"Month\""
   ]
  },
  {
   "cell_type": "markdown",
   "id": "08f09fe2-1f34-4ad6-83c7-48c80ab24768",
   "metadata": {
    "tags": []
   },
   "source": [
    "#### EDA above not yet finished (!)"
   ]
  },
  {
   "cell_type": "markdown",
   "id": "bb533941-712f-4462-9c80-6671622ea0c8",
   "metadata": {},
   "source": [
    "#### Fill Missing Values"
   ]
  },
  {
   "cell_type": "code",
   "execution_count": 347,
   "id": "6fd25f17-0387-4a03-b604-97df1d407231",
   "metadata": {},
   "outputs": [],
   "source": [
    "#(This will probably give bad results) - For the Coral_cover maybe will be better \n",
    "#to remove the rows all together, since we cannot infer by the location\n",
    "\n",
    "\n",
    "\n",
    "# Handle missing values: fill missing numeric values with the median\n",
    "numeric_cols = data.select_dtypes(include=['float64', 'int64']).columns\n",
    "for col in numeric_cols:\n",
    "    data[col] = data[col].fillna(data[col].median())"
   ]
  },
  {
   "cell_type": "markdown",
   "id": "33364b37-d50c-4b54-9cf1-4decac181bd6",
   "metadata": {},
   "source": [
    "#### Convert Categorical Data into Numeric"
   ]
  },
  {
   "cell_type": "code",
   "execution_count": 349,
   "id": "618ddbb9-48ba-44d9-a5d6-b2161335067a",
   "metadata": {
    "tags": []
   },
   "outputs": [],
   "source": [
    "# Convert categorical columns to numeric using label encoding\n",
    "non_numeric_cols = data.select_dtypes(include=['object']).columns\n",
    "label_encoders = {}\n",
    "for col in non_numeric_cols:\n",
    "    le = LabelEncoder()\n",
    "    data[col] = le.fit_transform(data[col])\n",
    "    label_encoders[col] = le"
   ]
  },
  {
   "cell_type": "code",
   "execution_count": 424,
   "id": "4d541b4b-0b20-440c-a77d-ab9f790ac8fe",
   "metadata": {
    "tags": []
   },
   "outputs": [
    {
     "data": {
      "text/plain": [
       "Index(['Year', 'Month', 'Depth', 'Region', 'Coral_cover', 'Reef_complexity',\n",
       "       'NPP', 'Wave_exposure', 'Habitat_type_classLV2',\n",
       "       'Coral_area_UFRTM_20km', 'Coral_area_UFRTM_200km', 'Depth_Sbrocco',\n",
       "       'FSA', 'Marine_reserve', 'Artificial_reefs_1km', 'SG_permits_50km',\n",
       "       'SG_charter_permits_25km', 'Total_gravity_intercept', 'Total_gravity',\n",
       "       'Keys_Divisions', 'Nursery_seagrass', 'Nursery_mangroves',\n",
       "       'Commercial_pounds_landed', 'Pop_per_area_reef_20km', 'impact',\n",
       "       'HABITAT_CD', 'Diversity_index'],\n",
       "      dtype='object')"
      ]
     },
     "execution_count": 424,
     "metadata": {},
     "output_type": "execute_result"
    }
   ],
   "source": [
    "data.columns"
   ]
  },
  {
   "cell_type": "code",
   "execution_count": 407,
   "id": "17078e61-0059-4da5-b645-dca5716ac227",
   "metadata": {
    "tags": []
   },
   "outputs": [
    {
     "data": {
      "text/html": [
       "<div>\n",
       "<style scoped>\n",
       "    .dataframe tbody tr th:only-of-type {\n",
       "        vertical-align: middle;\n",
       "    }\n",
       "\n",
       "    .dataframe tbody tr th {\n",
       "        vertical-align: top;\n",
       "    }\n",
       "\n",
       "    .dataframe thead th {\n",
       "        text-align: right;\n",
       "    }\n",
       "</style>\n",
       "<table border=\"1\" class=\"dataframe\">\n",
       "  <thead>\n",
       "    <tr style=\"text-align: right;\">\n",
       "      <th></th>\n",
       "      <th>Year</th>\n",
       "      <th>Month</th>\n",
       "      <th>Depth</th>\n",
       "      <th>Region</th>\n",
       "      <th>Coral_cover</th>\n",
       "      <th>Reef_complexity</th>\n",
       "      <th>NPP</th>\n",
       "      <th>Wave_exposure</th>\n",
       "      <th>Habitat_type_classLV2</th>\n",
       "      <th>Coral_area_UFRTM_20km</th>\n",
       "      <th>...</th>\n",
       "      <th>Total_gravity_intercept</th>\n",
       "      <th>Total_gravity</th>\n",
       "      <th>Keys_Divisions</th>\n",
       "      <th>Nursery_seagrass</th>\n",
       "      <th>Nursery_mangroves</th>\n",
       "      <th>Commercial_pounds_landed</th>\n",
       "      <th>Pop_per_area_reef_20km</th>\n",
       "      <th>impact</th>\n",
       "      <th>HABITAT_CD</th>\n",
       "      <th>Diversity_index</th>\n",
       "    </tr>\n",
       "  </thead>\n",
       "  <tbody>\n",
       "    <tr>\n",
       "      <th>0</th>\n",
       "      <td>2005</td>\n",
       "      <td>0</td>\n",
       "      <td>9.800000</td>\n",
       "      <td>1</td>\n",
       "      <td>2.000000</td>\n",
       "      <td>0.550322</td>\n",
       "      <td>550.865051</td>\n",
       "      <td>6.992729</td>\n",
       "      <td>0</td>\n",
       "      <td>88333</td>\n",
       "      <td>...</td>\n",
       "      <td>69.0</td>\n",
       "      <td>69.0</td>\n",
       "      <td>2</td>\n",
       "      <td>6483631.0</td>\n",
       "      <td>199409.31250</td>\n",
       "      <td>1511066.2</td>\n",
       "      <td>0.047128</td>\n",
       "      <td>0.205</td>\n",
       "      <td>8</td>\n",
       "      <td>0.877755</td>\n",
       "    </tr>\n",
       "    <tr>\n",
       "      <th>1</th>\n",
       "      <td>2005</td>\n",
       "      <td>3</td>\n",
       "      <td>8.821212</td>\n",
       "      <td>1</td>\n",
       "      <td>6.181818</td>\n",
       "      <td>1.886364</td>\n",
       "      <td>577.431946</td>\n",
       "      <td>6.950751</td>\n",
       "      <td>7</td>\n",
       "      <td>91742</td>\n",
       "      <td>...</td>\n",
       "      <td>74.0</td>\n",
       "      <td>74.0</td>\n",
       "      <td>2</td>\n",
       "      <td>11501368.0</td>\n",
       "      <td>21234.26563</td>\n",
       "      <td>855670.2</td>\n",
       "      <td>0.403795</td>\n",
       "      <td>0.382</td>\n",
       "      <td>18</td>\n",
       "      <td>0.912085</td>\n",
       "    </tr>\n",
       "    <tr>\n",
       "      <th>2</th>\n",
       "      <td>2005</td>\n",
       "      <td>2</td>\n",
       "      <td>17.399239</td>\n",
       "      <td>1</td>\n",
       "      <td>7.506345</td>\n",
       "      <td>0.749873</td>\n",
       "      <td>595.320252</td>\n",
       "      <td>6.950181</td>\n",
       "      <td>3</td>\n",
       "      <td>94607</td>\n",
       "      <td>...</td>\n",
       "      <td>126.0</td>\n",
       "      <td>126.0</td>\n",
       "      <td>2</td>\n",
       "      <td>12102752.0</td>\n",
       "      <td>13956.82617</td>\n",
       "      <td>855670.2</td>\n",
       "      <td>0.392888</td>\n",
       "      <td>0.382</td>\n",
       "      <td>2</td>\n",
       "      <td>0.882112</td>\n",
       "    </tr>\n",
       "    <tr>\n",
       "      <th>3</th>\n",
       "      <td>2005</td>\n",
       "      <td>0</td>\n",
       "      <td>9.200000</td>\n",
       "      <td>1</td>\n",
       "      <td>10.000000</td>\n",
       "      <td>0.400000</td>\n",
       "      <td>590.443543</td>\n",
       "      <td>6.959807</td>\n",
       "      <td>3</td>\n",
       "      <td>96139</td>\n",
       "      <td>...</td>\n",
       "      <td>126.0</td>\n",
       "      <td>126.0</td>\n",
       "      <td>2</td>\n",
       "      <td>11003196.0</td>\n",
       "      <td>14876.60742</td>\n",
       "      <td>855670.2</td>\n",
       "      <td>0.386919</td>\n",
       "      <td>0.382</td>\n",
       "      <td>8</td>\n",
       "      <td>0.806049</td>\n",
       "    </tr>\n",
       "    <tr>\n",
       "      <th>4</th>\n",
       "      <td>2005</td>\n",
       "      <td>3</td>\n",
       "      <td>8.558032</td>\n",
       "      <td>1</td>\n",
       "      <td>2.870486</td>\n",
       "      <td>0.289415</td>\n",
       "      <td>579.874023</td>\n",
       "      <td>6.914992</td>\n",
       "      <td>3</td>\n",
       "      <td>98167</td>\n",
       "      <td>...</td>\n",
       "      <td>126.0</td>\n",
       "      <td>126.0</td>\n",
       "      <td>1</td>\n",
       "      <td>9313051.0</td>\n",
       "      <td>14697.00195</td>\n",
       "      <td>855670.2</td>\n",
       "      <td>0.383887</td>\n",
       "      <td>0.382</td>\n",
       "      <td>8</td>\n",
       "      <td>0.829156</td>\n",
       "    </tr>\n",
       "    <tr>\n",
       "      <th>5</th>\n",
       "      <td>2005</td>\n",
       "      <td>2</td>\n",
       "      <td>26.504821</td>\n",
       "      <td>1</td>\n",
       "      <td>17.620519</td>\n",
       "      <td>1.200000</td>\n",
       "      <td>548.318603</td>\n",
       "      <td>7.016505</td>\n",
       "      <td>7</td>\n",
       "      <td>95312</td>\n",
       "      <td>...</td>\n",
       "      <td>126.0</td>\n",
       "      <td>126.0</td>\n",
       "      <td>1</td>\n",
       "      <td>6948246.5</td>\n",
       "      <td>0.00000</td>\n",
       "      <td>855670.2</td>\n",
       "      <td>0.408742</td>\n",
       "      <td>0.382</td>\n",
       "      <td>19</td>\n",
       "      <td>0.826781</td>\n",
       "    </tr>\n",
       "    <tr>\n",
       "      <th>6</th>\n",
       "      <td>2005</td>\n",
       "      <td>2</td>\n",
       "      <td>8.696966</td>\n",
       "      <td>1</td>\n",
       "      <td>25.018963</td>\n",
       "      <td>1.149431</td>\n",
       "      <td>547.846313</td>\n",
       "      <td>6.674624</td>\n",
       "      <td>3</td>\n",
       "      <td>101151</td>\n",
       "      <td>...</td>\n",
       "      <td>133.0</td>\n",
       "      <td>133.0</td>\n",
       "      <td>1</td>\n",
       "      <td>10456858.0</td>\n",
       "      <td>187408.04690</td>\n",
       "      <td>855670.2</td>\n",
       "      <td>0.389774</td>\n",
       "      <td>0.382</td>\n",
       "      <td>19</td>\n",
       "      <td>0.934887</td>\n",
       "    </tr>\n",
       "    <tr>\n",
       "      <th>7</th>\n",
       "      <td>2005</td>\n",
       "      <td>3</td>\n",
       "      <td>20.300000</td>\n",
       "      <td>1</td>\n",
       "      <td>6.000000</td>\n",
       "      <td>1.300000</td>\n",
       "      <td>539.073120</td>\n",
       "      <td>6.896012</td>\n",
       "      <td>3</td>\n",
       "      <td>100667</td>\n",
       "      <td>...</td>\n",
       "      <td>133.0</td>\n",
       "      <td>133.0</td>\n",
       "      <td>1</td>\n",
       "      <td>10480436.0</td>\n",
       "      <td>162343.26560</td>\n",
       "      <td>855670.2</td>\n",
       "      <td>0.391648</td>\n",
       "      <td>0.382</td>\n",
       "      <td>19</td>\n",
       "      <td>0.853695</td>\n",
       "    </tr>\n",
       "    <tr>\n",
       "      <th>8</th>\n",
       "      <td>2005</td>\n",
       "      <td>3</td>\n",
       "      <td>20.463554</td>\n",
       "      <td>1</td>\n",
       "      <td>9.817768</td>\n",
       "      <td>1.700000</td>\n",
       "      <td>548.660706</td>\n",
       "      <td>6.492898</td>\n",
       "      <td>0</td>\n",
       "      <td>103773</td>\n",
       "      <td>...</td>\n",
       "      <td>133.0</td>\n",
       "      <td>133.0</td>\n",
       "      <td>1</td>\n",
       "      <td>12416307.0</td>\n",
       "      <td>271718.68750</td>\n",
       "      <td>855670.2</td>\n",
       "      <td>0.380080</td>\n",
       "      <td>0.382</td>\n",
       "      <td>19</td>\n",
       "      <td>0.837965</td>\n",
       "    </tr>\n",
       "    <tr>\n",
       "      <th>9</th>\n",
       "      <td>2005</td>\n",
       "      <td>2</td>\n",
       "      <td>9.500000</td>\n",
       "      <td>1</td>\n",
       "      <td>2.493606</td>\n",
       "      <td>0.849361</td>\n",
       "      <td>551.645569</td>\n",
       "      <td>7.095299</td>\n",
       "      <td>3</td>\n",
       "      <td>105049</td>\n",
       "      <td>...</td>\n",
       "      <td>133.0</td>\n",
       "      <td>133.0</td>\n",
       "      <td>1</td>\n",
       "      <td>13021467.0</td>\n",
       "      <td>296726.59380</td>\n",
       "      <td>855670.2</td>\n",
       "      <td>0.375463</td>\n",
       "      <td>0.382</td>\n",
       "      <td>18</td>\n",
       "      <td>0.890591</td>\n",
       "    </tr>\n",
       "  </tbody>\n",
       "</table>\n",
       "<p>10 rows × 27 columns</p>\n",
       "</div>"
      ],
      "text/plain": [
       "   Year  Month      Depth  Region  Coral_cover  Reef_complexity         NPP  \\\n",
       "0  2005      0   9.800000       1     2.000000         0.550322  550.865051   \n",
       "1  2005      3   8.821212       1     6.181818         1.886364  577.431946   \n",
       "2  2005      2  17.399239       1     7.506345         0.749873  595.320252   \n",
       "3  2005      0   9.200000       1    10.000000         0.400000  590.443543   \n",
       "4  2005      3   8.558032       1     2.870486         0.289415  579.874023   \n",
       "5  2005      2  26.504821       1    17.620519         1.200000  548.318603   \n",
       "6  2005      2   8.696966       1    25.018963         1.149431  547.846313   \n",
       "7  2005      3  20.300000       1     6.000000         1.300000  539.073120   \n",
       "8  2005      3  20.463554       1     9.817768         1.700000  548.660706   \n",
       "9  2005      2   9.500000       1     2.493606         0.849361  551.645569   \n",
       "\n",
       "   Wave_exposure  Habitat_type_classLV2  Coral_area_UFRTM_20km  ...  \\\n",
       "0       6.992729                      0                  88333  ...   \n",
       "1       6.950751                      7                  91742  ...   \n",
       "2       6.950181                      3                  94607  ...   \n",
       "3       6.959807                      3                  96139  ...   \n",
       "4       6.914992                      3                  98167  ...   \n",
       "5       7.016505                      7                  95312  ...   \n",
       "6       6.674624                      3                 101151  ...   \n",
       "7       6.896012                      3                 100667  ...   \n",
       "8       6.492898                      0                 103773  ...   \n",
       "9       7.095299                      3                 105049  ...   \n",
       "\n",
       "   Total_gravity_intercept  Total_gravity  Keys_Divisions  Nursery_seagrass  \\\n",
       "0                     69.0           69.0               2         6483631.0   \n",
       "1                     74.0           74.0               2        11501368.0   \n",
       "2                    126.0          126.0               2        12102752.0   \n",
       "3                    126.0          126.0               2        11003196.0   \n",
       "4                    126.0          126.0               1         9313051.0   \n",
       "5                    126.0          126.0               1         6948246.5   \n",
       "6                    133.0          133.0               1        10456858.0   \n",
       "7                    133.0          133.0               1        10480436.0   \n",
       "8                    133.0          133.0               1        12416307.0   \n",
       "9                    133.0          133.0               1        13021467.0   \n",
       "\n",
       "   Nursery_mangroves  Commercial_pounds_landed  Pop_per_area_reef_20km  \\\n",
       "0       199409.31250                 1511066.2                0.047128   \n",
       "1        21234.26563                  855670.2                0.403795   \n",
       "2        13956.82617                  855670.2                0.392888   \n",
       "3        14876.60742                  855670.2                0.386919   \n",
       "4        14697.00195                  855670.2                0.383887   \n",
       "5            0.00000                  855670.2                0.408742   \n",
       "6       187408.04690                  855670.2                0.389774   \n",
       "7       162343.26560                  855670.2                0.391648   \n",
       "8       271718.68750                  855670.2                0.380080   \n",
       "9       296726.59380                  855670.2                0.375463   \n",
       "\n",
       "   impact  HABITAT_CD  Diversity_index  \n",
       "0   0.205           8         0.877755  \n",
       "1   0.382          18         0.912085  \n",
       "2   0.382           2         0.882112  \n",
       "3   0.382           8         0.806049  \n",
       "4   0.382           8         0.829156  \n",
       "5   0.382          19         0.826781  \n",
       "6   0.382          19         0.934887  \n",
       "7   0.382          19         0.853695  \n",
       "8   0.382          19         0.837965  \n",
       "9   0.382          18         0.890591  \n",
       "\n",
       "[10 rows x 27 columns]"
      ]
     },
     "execution_count": 407,
     "metadata": {},
     "output_type": "execute_result"
    }
   ],
   "source": [
    "data.head(10)"
   ]
  },
  {
   "cell_type": "code",
   "execution_count": null,
   "id": "6779a9a4-29ef-431e-9bd2-c8e3a25ddeee",
   "metadata": {},
   "outputs": [],
   "source": []
  }
 ],
 "metadata": {
  "kernelspec": {
   "display_name": "Python 3 (ipykernel)",
   "language": "python",
   "name": "python3"
  },
  "language_info": {
   "codemirror_mode": {
    "name": "ipython",
    "version": 3
   },
   "file_extension": ".py",
   "mimetype": "text/x-python",
   "name": "python",
   "nbconvert_exporter": "python",
   "pygments_lexer": "ipython3",
   "version": "3.11.7"
  }
 },
 "nbformat": 4,
 "nbformat_minor": 5
}
