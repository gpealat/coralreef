{
 "cells": [
  {
   "cell_type": "code",
   "execution_count": 1,
   "id": "8138427c-2aa0-4958-8b8a-3776bcecdf19",
   "metadata": {},
   "outputs": [],
   "source": [
    "import pandas as pd\n",
    "filepath = '../Data/species.csv'"
   ]
  },
  {
   "cell_type": "code",
   "execution_count": 2,
   "id": "2aeb12a0-2e4f-480f-84ab-d920d51154c2",
   "metadata": {},
   "outputs": [],
   "source": [
    "data = pd.read_csv(filepath, index_col=0)"
   ]
  },
  {
   "cell_type": "code",
   "execution_count": 3,
   "id": "963f57f7-1aa9-4f26-9d46-6bc2ccfb8c02",
   "metadata": {},
   "outputs": [
    {
     "data": {
      "text/html": [
       "<div>\n",
       "<style scoped>\n",
       "    .dataframe tbody tr th:only-of-type {\n",
       "        vertical-align: middle;\n",
       "    }\n",
       "\n",
       "    .dataframe tbody tr th {\n",
       "        vertical-align: top;\n",
       "    }\n",
       "\n",
       "    .dataframe thead th {\n",
       "        text-align: right;\n",
       "    }\n",
       "</style>\n",
       "<table border=\"1\" class=\"dataframe\">\n",
       "  <thead>\n",
       "    <tr style=\"text-align: right;\">\n",
       "      <th></th>\n",
       "      <th>site</th>\n",
       "      <th>model</th>\n",
       "      <th>Year</th>\n",
       "      <th>Month</th>\n",
       "      <th>Latitude</th>\n",
       "      <th>Longitude</th>\n",
       "      <th>Depth</th>\n",
       "      <th>Region</th>\n",
       "      <th>Coral_cover</th>\n",
       "      <th>Reef_complexity</th>\n",
       "      <th>...</th>\n",
       "      <th>Pop_per_area_reef_20km</th>\n",
       "      <th>Random</th>\n",
       "      <th>impact</th>\n",
       "      <th>YEAR</th>\n",
       "      <th>HABITAT_CD</th>\n",
       "      <th>REGION</th>\n",
       "      <th>PCT_CORAL</th>\n",
       "      <th>MAX_HARD_RELIEF</th>\n",
       "      <th>no.divers</th>\n",
       "      <th>Diversity_index</th>\n",
       "    </tr>\n",
       "  </thead>\n",
       "  <tbody>\n",
       "    <tr>\n",
       "      <th>0</th>\n",
       "      <td>4733520_128U</td>\n",
       "      <td>biomass</td>\n",
       "      <td>2005</td>\n",
       "      <td>August</td>\n",
       "      <td>24.446433</td>\n",
       "      <td>-81.962900</td>\n",
       "      <td>9.800000</td>\n",
       "      <td>FLA KEYS</td>\n",
       "      <td>2.000000</td>\n",
       "      <td>0.550322</td>\n",
       "      <td>...</td>\n",
       "      <td>0.047128</td>\n",
       "      <td>3786</td>\n",
       "      <td>0.205</td>\n",
       "      <td>2005</td>\n",
       "      <td>ISOL_LR</td>\n",
       "      <td>FLA KEYS</td>\n",
       "      <td>2.000000</td>\n",
       "      <td>0.550322</td>\n",
       "      <td>4</td>\n",
       "      <td>0.877755</td>\n",
       "    </tr>\n",
       "    <tr>\n",
       "      <th>1</th>\n",
       "      <td>4966028_487U</td>\n",
       "      <td>impact</td>\n",
       "      <td>2005</td>\n",
       "      <td>June</td>\n",
       "      <td>24.461130</td>\n",
       "      <td>-81.840099</td>\n",
       "      <td>8.821212</td>\n",
       "      <td>FLA KEYS</td>\n",
       "      <td>6.181818</td>\n",
       "      <td>1.886364</td>\n",
       "      <td>...</td>\n",
       "      <td>0.403795</td>\n",
       "      <td>503</td>\n",
       "      <td>0.382</td>\n",
       "      <td>2005</td>\n",
       "      <td>SPGR_HR</td>\n",
       "      <td>FLA KEYS</td>\n",
       "      <td>6.181818</td>\n",
       "      <td>1.886364</td>\n",
       "      <td>4</td>\n",
       "      <td>0.912085</td>\n",
       "    </tr>\n",
       "    <tr>\n",
       "      <th>2</th>\n",
       "      <td>4981032_102U</td>\n",
       "      <td>biomass</td>\n",
       "      <td>2005</td>\n",
       "      <td>July</td>\n",
       "      <td>24.467250</td>\n",
       "      <td>-81.832367</td>\n",
       "      <td>17.399239</td>\n",
       "      <td>FLA KEYS</td>\n",
       "      <td>7.506345</td>\n",
       "      <td>0.749873</td>\n",
       "      <td>...</td>\n",
       "      <td>0.392888</td>\n",
       "      <td>3430</td>\n",
       "      <td>NaN</td>\n",
       "      <td>2005</td>\n",
       "      <td>CONT_LR</td>\n",
       "      <td>FLA KEYS</td>\n",
       "      <td>7.506345</td>\n",
       "      <td>0.749873</td>\n",
       "      <td>4</td>\n",
       "      <td>0.882112</td>\n",
       "    </tr>\n",
       "    <tr>\n",
       "      <th>3</th>\n",
       "      <td>4999782_141U</td>\n",
       "      <td>impact</td>\n",
       "      <td>2005</td>\n",
       "      <td>August</td>\n",
       "      <td>24.468767</td>\n",
       "      <td>-81.822167</td>\n",
       "      <td>9.200000</td>\n",
       "      <td>FLA KEYS</td>\n",
       "      <td>10.000000</td>\n",
       "      <td>0.400000</td>\n",
       "      <td>...</td>\n",
       "      <td>0.386919</td>\n",
       "      <td>3696</td>\n",
       "      <td>NaN</td>\n",
       "      <td>2005</td>\n",
       "      <td>ISOL_LR</td>\n",
       "      <td>FLA KEYS</td>\n",
       "      <td>10.000000</td>\n",
       "      <td>0.400000</td>\n",
       "      <td>4</td>\n",
       "      <td>0.806049</td>\n",
       "    </tr>\n",
       "    <tr>\n",
       "      <th>4</th>\n",
       "      <td>5026033_475U</td>\n",
       "      <td>impact</td>\n",
       "      <td>2005</td>\n",
       "      <td>June</td>\n",
       "      <td>24.470206</td>\n",
       "      <td>-81.808148</td>\n",
       "      <td>8.558032</td>\n",
       "      <td>FLA KEYS</td>\n",
       "      <td>2.870486</td>\n",
       "      <td>0.289415</td>\n",
       "      <td>...</td>\n",
       "      <td>0.383887</td>\n",
       "      <td>4090</td>\n",
       "      <td>NaN</td>\n",
       "      <td>2005</td>\n",
       "      <td>ISOL_LR</td>\n",
       "      <td>FLA KEYS</td>\n",
       "      <td>2.870486</td>\n",
       "      <td>0.289415</td>\n",
       "      <td>4</td>\n",
       "      <td>0.829156</td>\n",
       "    </tr>\n",
       "  </tbody>\n",
       "</table>\n",
       "<p>5 rows × 55 columns</p>\n",
       "</div>"
      ],
      "text/plain": [
       "           site    model  Year   Month   Latitude  Longitude      Depth  \\\n",
       "0  4733520_128U  biomass  2005  August  24.446433 -81.962900   9.800000   \n",
       "1  4966028_487U   impact  2005    June  24.461130 -81.840099   8.821212   \n",
       "2  4981032_102U  biomass  2005    July  24.467250 -81.832367  17.399239   \n",
       "3  4999782_141U   impact  2005  August  24.468767 -81.822167   9.200000   \n",
       "4  5026033_475U   impact  2005    June  24.470206 -81.808148   8.558032   \n",
       "\n",
       "     Region  Coral_cover  Reef_complexity  ...  Pop_per_area_reef_20km  \\\n",
       "0  FLA KEYS     2.000000         0.550322  ...                0.047128   \n",
       "1  FLA KEYS     6.181818         1.886364  ...                0.403795   \n",
       "2  FLA KEYS     7.506345         0.749873  ...                0.392888   \n",
       "3  FLA KEYS    10.000000         0.400000  ...                0.386919   \n",
       "4  FLA KEYS     2.870486         0.289415  ...                0.383887   \n",
       "\n",
       "   Random  impact  YEAR HABITAT_CD    REGION  PCT_CORAL  MAX_HARD_RELIEF  \\\n",
       "0    3786   0.205  2005    ISOL_LR  FLA KEYS   2.000000         0.550322   \n",
       "1     503   0.382  2005    SPGR_HR  FLA KEYS   6.181818         1.886364   \n",
       "2    3430     NaN  2005    CONT_LR  FLA KEYS   7.506345         0.749873   \n",
       "3    3696     NaN  2005    ISOL_LR  FLA KEYS  10.000000         0.400000   \n",
       "4    4090     NaN  2005    ISOL_LR  FLA KEYS   2.870486         0.289415   \n",
       "\n",
       "   no.divers  Diversity_index  \n",
       "0          4         0.877755  \n",
       "1          4         0.912085  \n",
       "2          4         0.882112  \n",
       "3          4         0.806049  \n",
       "4          4         0.829156  \n",
       "\n",
       "[5 rows x 55 columns]"
      ]
     },
     "execution_count": 3,
     "metadata": {},
     "output_type": "execute_result"
    }
   ],
   "source": [
    "data.head()"
   ]
  },
  {
   "cell_type": "markdown",
   "id": "bc13e6e0-8b1f-4514-ab3e-f8a6f3db9644",
   "metadata": {},
   "source": [
    "Make a copy of the dataframe"
   ]
  },
  {
   "cell_type": "code",
   "execution_count": 13,
   "id": "4f6cce80-f8f3-4b0d-b060-365c33358bcb",
   "metadata": {},
   "outputs": [],
   "source": [
    "data_copy = data.copy(deep=True)"
   ]
  },
  {
   "cell_type": "markdown",
   "id": "872811c3-b530-47c5-acad-3e4b66ea77b9",
   "metadata": {},
   "source": [
    "Finding the columns with identical names (Capital letters vs small caps)"
   ]
  },
  {
   "cell_type": "code",
   "execution_count": 14,
   "id": "525fc86d-e591-488a-9ce5-dd33a4ca81a1",
   "metadata": {},
   "outputs": [],
   "source": [
    "# Step 1: Normalize the column names to a consistent case (e.g., lower case)\n",
    "normalized_columns = data_copy.columns.str.lower()\n",
    "\n",
    "# Step 2: Check for duplicates in the normalized names\n",
    "duplicates = normalized_columns[normalized_columns.duplicated()].unique()\n",
    "\n",
    "# Step 3: Identify the original column names corresponding to the duplicates\n",
    "duplicate_columns = [col for col in data_copy.columns if col.lower() in duplicates]"
   ]
  },
  {
   "cell_type": "code",
   "execution_count": 15,
   "id": "1220e057-1c79-4a77-ace7-a88d8efe132b",
   "metadata": {},
   "outputs": [
    {
     "data": {
      "text/plain": [
       "['Year', 'Region', 'YEAR', 'REGION']"
      ]
     },
     "execution_count": 15,
     "metadata": {},
     "output_type": "execute_result"
    }
   ],
   "source": [
    "duplicate_columns"
   ]
  },
  {
   "cell_type": "markdown",
   "id": "0decb6b9-33a0-4b5c-8652-740732d24766",
   "metadata": {},
   "source": [
    "Removing the columns named YEAR and REGION"
   ]
  },
  {
   "cell_type": "code",
   "execution_count": 16,
   "id": "34f7c532-0b85-47bc-bf4e-c6a3b6a1d677",
   "metadata": {},
   "outputs": [
    {
     "data": {
      "text/plain": [
       "Index(['site', 'model', 'Year', 'Month', 'Latitude', 'Longitude', 'Depth',\n",
       "       'Region', 'Coral_cover', 'Reef_complexity', 'SST', 'NPP',\n",
       "       'Wave_exposure', 'Habitat_type_classLV0', 'Habitat_type_classLV2',\n",
       "       'Coral_area_UFRTM_20km', 'Coral_area_UFRTM_200km', 'Depth_Sbrocco',\n",
       "       'Deepwater', 'FSA', 'Marina_slips_10km', 'Marina_slips_25km',\n",
       "       'Marine_reserve', 'Population_20km', 'Population_50km',\n",
       "       'Recreational_fishermen_50km', 'Tourist_fishing',\n",
       "       'Artificial_reefs_1km', 'SG_permits_50km', 'SG_charter_permits_25km',\n",
       "       'Total_gravity_intercept', 'Total_gravity', 'Keys_Divisions', 'FKNMS',\n",
       "       'DryTortugas', 'BNP', 'CoralECA', 'Nursery_seagrass',\n",
       "       'Nursery_mangroves', 'connectivity', 'Comm_engagement', 'Comm_reliance',\n",
       "       'Rec_engagement', 'Rec_reliance', 'Commercial_pounds_landed',\n",
       "       'Pop_per_area_reef_20km', 'Random', 'impact', 'HABITAT_CD', 'PCT_CORAL',\n",
       "       'MAX_HARD_RELIEF', 'no.divers', 'Diversity_index'],\n",
       "      dtype='object')"
      ]
     },
     "execution_count": 16,
     "metadata": {},
     "output_type": "execute_result"
    }
   ],
   "source": [
    "data_copy.drop(labels=['YEAR','REGION'], axis=1, inplace=True)\n",
    "data_copy.columns"
   ]
  },
  {
   "cell_type": "markdown",
   "id": "05517eee-8722-46bf-b128-5d01195ebb06",
   "metadata": {},
   "source": [
    "Normalize the columnn names cases"
   ]
  },
  {
   "cell_type": "code",
   "execution_count": 18,
   "id": "47d1fa60-64b8-49d0-b094-4aac9d9d9dbc",
   "metadata": {},
   "outputs": [
    {
     "data": {
      "text/plain": [
       "Index(['site', 'model', 'year', 'month', 'latitude', 'longitude', 'depth',\n",
       "       'region', 'coral_cover', 'reef_complexity', 'sst', 'npp',\n",
       "       'wave_exposure', 'habitat_type_classlv0', 'habitat_type_classlv2',\n",
       "       'coral_area_ufrtm_20km', 'coral_area_ufrtm_200km', 'depth_sbrocco',\n",
       "       'deepwater', 'fsa', 'marina_slips_10km', 'marina_slips_25km',\n",
       "       'marine_reserve', 'population_20km', 'population_50km',\n",
       "       'recreational_fishermen_50km', 'tourist_fishing',\n",
       "       'artificial_reefs_1km', 'sg_permits_50km', 'sg_charter_permits_25km',\n",
       "       'total_gravity_intercept', 'total_gravity', 'keys_divisions', 'fknms',\n",
       "       'drytortugas', 'bnp', 'coraleca', 'nursery_seagrass',\n",
       "       'nursery_mangroves', 'connectivity', 'comm_engagement', 'comm_reliance',\n",
       "       'rec_engagement', 'rec_reliance', 'commercial_pounds_landed',\n",
       "       'pop_per_area_reef_20km', 'random', 'impact', 'habitat_cd', 'pct_coral',\n",
       "       'max_hard_relief', 'no.divers', 'diversity_index'],\n",
       "      dtype='object')"
      ]
     },
     "execution_count": 18,
     "metadata": {},
     "output_type": "execute_result"
    }
   ],
   "source": [
    "data_copy.columns = data_copy.columns.str.lower()\n",
    "data_copy.columns"
   ]
  },
  {
   "cell_type": "markdown",
   "id": "15c6305f-1e4c-4efc-b635-25cf55d3364d",
   "metadata": {},
   "source": [
    "Checking which columns has missing values"
   ]
  },
  {
   "cell_type": "code",
   "execution_count": 33,
   "id": "6d024668-5c0e-4c66-98ac-7bf31fbaafc6",
   "metadata": {},
   "outputs": [
    {
     "name": "stdout",
     "output_type": "stream",
     "text": [
      "Columns with missing values:\n",
      "['coral_cover', 'reef_complexity', 'total_gravity_intercept', 'total_gravity', 'keys_divisions', 'fknms', 'drytortugas', 'bnp', 'coraleca', 'connectivity', 'comm_engagement', 'comm_reliance', 'rec_engagement', 'rec_reliance', 'commercial_pounds_landed', 'impact', 'pct_coral', 'max_hard_relief']\n"
     ]
    }
   ],
   "source": [
    "# Step 1: Use isna() to find missing values\n",
    "missing_values = data_copy.isna()\n",
    "\n",
    "# Step 2: Use any() to check for any missing values in each column\n",
    "columns_with_na = missing_values.any()\n",
    "print('Columns with missing values:')\n",
    "print(list(columns_with_na.index[columns_with_na]))"
   ]
  },
  {
   "cell_type": "code",
   "execution_count": 37,
   "id": "92c36feb-1fad-4ff0-be87-2c0e81231a7c",
   "metadata": {},
   "outputs": [
    {
     "data": {
      "text/plain": [
       "False"
      ]
     },
     "execution_count": 37,
     "metadata": {},
     "output_type": "execute_result"
    }
   ],
   "source": [
    "data_copy['year'].isna().any()"
   ]
  },
  {
   "cell_type": "code",
   "execution_count": 19,
   "id": "ee1e16e5-9c4f-4395-aacb-008e115b71ef",
   "metadata": {},
   "outputs": [
    {
     "data": {
      "text/plain": [
       "array(['biomass', 'impact'], dtype=object)"
      ]
     },
     "execution_count": 19,
     "metadata": {},
     "output_type": "execute_result"
    }
   ],
   "source": [
    "data_copy['model'].unique()"
   ]
  },
  {
   "cell_type": "code",
   "execution_count": 21,
   "id": "a63ccc65-9fd2-4044-9190-0a3c4dedcbe0",
   "metadata": {},
   "outputs": [
    {
     "data": {
      "text/plain": [
       "array([2005, 2006, 2007, 2008, 2009, 2011, 2012, 2013, 2014, 2015, 2016,\n",
       "       2018], dtype=int64)"
      ]
     },
     "execution_count": 21,
     "metadata": {},
     "output_type": "execute_result"
    }
   ],
   "source": [
    "data_copy['year'].unique()"
   ]
  },
  {
   "cell_type": "code",
   "execution_count": 22,
   "id": "20b66cf0-4236-454f-aa33-d96c7b42edef",
   "metadata": {},
   "outputs": [
    {
     "data": {
      "text/plain": [
       "53"
      ]
     },
     "execution_count": 22,
     "metadata": {},
     "output_type": "execute_result"
    }
   ],
   "source": [
    "len(data_copy.columns)"
   ]
  },
  {
   "cell_type": "code",
   "execution_count": null,
   "id": "58646358-f958-4455-b7a4-bbaef90af42b",
   "metadata": {},
   "outputs": [],
   "source": []
  }
 ],
 "metadata": {
  "kernelspec": {
   "display_name": "Python 3 (ipykernel)",
   "language": "python",
   "name": "python3"
  },
  "language_info": {
   "codemirror_mode": {
    "name": "ipython",
    "version": 3
   },
   "file_extension": ".py",
   "mimetype": "text/x-python",
   "name": "python",
   "nbconvert_exporter": "python",
   "pygments_lexer": "ipython3",
   "version": "3.12.3"
  }
 },
 "nbformat": 4,
 "nbformat_minor": 5
}
